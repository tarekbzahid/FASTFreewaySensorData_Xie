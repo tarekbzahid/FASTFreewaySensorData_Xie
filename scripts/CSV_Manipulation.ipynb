{
 "cells": [
  {
   "cell_type": "code",
   "execution_count": null,
   "metadata": {},
   "outputs": [],
   "source": [
    "import dask.dataframe as dd\n",
    "\n",
    "# Read the CSV file into a Dask DataFrame\n",
    "df = dd.read_csv('data.csv')\n",
    "\n",
    "# Filter the DataFrame to only include rows where DetectorID = 656.1.503\n",
    "filtered_df = df[df['DetectorID'] == 656.1503]\n",
    "\n",
    "# Print the filtered DataFrame\n",
    "print(filtered_df)"
   ]
  }
 ],
 "metadata": {
  "language_info": {
   "name": "python"
  }
 },
 "nbformat": 4,
 "nbformat_minor": 2
}
