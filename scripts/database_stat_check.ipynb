{
 "cells": [
  {
   "cell_type": "code",
   "execution_count": 1,
   "metadata": {},
   "outputs": [
    {
     "name": "stdout",
     "output_type": "stream",
     "text": [
      "Successfully connected to the database: RTC_Xie_Gang\n",
      "FASTFreewaySensorData2018\n",
      "FASTFreewaySensorData2019\n"
     ]
    }
   ],
   "source": [
    "# Check connection:\n",
    "\n",
    "import mysql.connector\n",
    "\n",
    "# Connect to the database\n",
    "try:\n",
    "    mydb = mysql.connector.connect(\n",
    "        host=\"10.18.16.100\",\n",
    "        user=\"jmc\",\n",
    "        password=\"jmc\",\n",
    "        database=\"RTC_Xie_Gang\"\n",
    "    )\n",
    "    print(f\"Successfully connected to the database: {mydb.database}\")\n",
    "except mysql.connector.Error as err:\n",
    "    print(f\"Error connecting to database: {err}\")\n",
    "    exit()\n",
    "\n",
    "# Create a cursor object\n",
    "mycursor = mydb.cursor()\n",
    "\n",
    "# Execute the SQL query to get the table list\n",
    "mycursor.execute(\"SHOW TABLES\")\n",
    "\n",
    "# Fetch all the table names\n",
    "table_list = mycursor.fetchall()\n",
    "\n",
    "# Print the table names\n",
    "for table in table_list:\n",
    "    print(table[0])\n",
    "\n",
    "# Close the cursor and database connection\n",
    "mycursor.close()\n",
    "mydb.close()"
   ]
  },
  {
   "cell_type": "code",
   "execution_count": null,
   "metadata": {},
   "outputs": [],
   "source": []
  }
 ],
 "metadata": {
  "kernelspec": {
   "display_name": "Python 3",
   "language": "python",
   "name": "python3"
  },
  "language_info": {
   "codemirror_mode": {
    "name": "ipython",
    "version": 3
   },
   "file_extension": ".py",
   "mimetype": "text/x-python",
   "name": "python",
   "nbconvert_exporter": "python",
   "pygments_lexer": "ipython3",
   "version": "3.11.0"
  }
 },
 "nbformat": 4,
 "nbformat_minor": 2
}
