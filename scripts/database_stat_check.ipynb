{
 "cells": [
  {
   "cell_type": "code",
   "execution_count": 12,
   "metadata": {},
   "outputs": [
    {
     "name": "stdout",
     "output_type": "stream",
     "text": [
      "Successfully connected to the database: RTC_Xie_Gang\n",
      "FASTFreewaySensorData2018 rows :\n",
      "\tDateTimeStamp: text\n",
      "\tPath: int(11)\n",
      "\tRoadIndex: int(11)\n",
      "\tRoadwayID: int(11)\n",
      "\tSegmentID: int(11)\n",
      "\tLane: int(11)\n",
      "\tDeviceID: int(11)\n",
      "\tVolume: int(11)\n",
      "\tVolume1: int(11)\n",
      "\tVolume2: int(11)\n",
      "\tVolume3: int(11)\n",
      "\tVolume4: int(11)\n",
      "\tVolume5: int(11)\n",
      "\tVolume6: int(11)\n",
      "\tOccupancy: int(11)\n",
      "\tSpeed: int(11)\n",
      "\tPoll_Count: int(11)\n",
      "\tFailure: int(11)\n",
      "\tRoadType: text\n",
      "\tLocation: text\n",
      "\tPolling_Period: int(11)\n",
      "\tInvalid: int(11)\n",
      "\tDetectorID: text\n",
      "\tDayOfWeek: int(11)\n",
      "\tDateValue: text\n",
      "\tHourIdx: int(11)\n",
      "\tHoliday: int(11)\n",
      "FASTFreewaySensorData2019 rows :\n",
      "\tDateTimeStamp: text\n",
      "\tPath: int(11)\n",
      "\tRoadIndex: int(11)\n",
      "\tRoadwayID: int(11)\n",
      "\tSegmentID: int(11)\n",
      "\tLane: int(11)\n",
      "\tDeviceID: int(11)\n",
      "\tVolume: int(11)\n",
      "\tVolume1: int(11)\n",
      "\tVolume2: int(11)\n",
      "\tVolume3: int(11)\n",
      "\tVolume4: int(11)\n",
      "\tVolume5: int(11)\n",
      "\tVolume6: int(11)\n",
      "\tOccupancy: int(11)\n",
      "\tSpeed: int(11)\n",
      "\tPoll_Count: int(11)\n",
      "\tFailure: int(11)\n",
      "\tRoadType: text\n",
      "\tLocation: text\n",
      "\tPolling_Period: int(11)\n",
      "\tInvalid: int(11)\n",
      "\tDetectorID: text\n",
      "\tDayOfWeek: int(11)\n",
      "\tDateValue: text\n",
      "\tHourIdx: int(11)\n",
      "\tHoliday: int(11)\n"
     ]
    }
   ],
   "source": [
    "# Check connection:\n",
    "\n",
    "import mysql.connector\n",
    "\n",
    "# Connect to the database\n",
    "try:\n",
    "    mydb = mysql.connector.connect(\n",
    "        host=\"10.18.16.100\",\n",
    "        user=\"jmc\",\n",
    "        password=\"jmc\",\n",
    "        database=\"RTC_Xie_Gang\"\n",
    "    )\n",
    "    print(f\"Successfully connected to the database: {mydb.database}\")\n",
    "except mysql.connector.Error as err:\n",
    "    print(f\"Error connecting to database: {err}\")\n",
    "    exit()\n",
    "\n",
    "# Create a cursor object\n",
    "mycursor = mydb.cursor()\n",
    "\n",
    "# Execute the SQL query to get the table list\n",
    "mycursor.execute(\"SHOW TABLES\")\n",
    "\n",
    "# Fetch all the table names\n",
    "table_list = mycursor.fetchall()\n",
    "\n",
    "# Print the table names and their stats\n",
    "for table in table_list:\n",
    "    print(table[0]+\" rows :\")\n",
    "\n",
    "    # Get the table stats\n",
    "    mycursor.execute(f\"DESC {table[0]}\")\n",
    "    table_stats = mycursor.fetchall()\n",
    "\n",
    "    # Print the table stats\n",
    "    for stat in table_stats:\n",
    "        print(f\"\\t{stat[0]}: {stat[1]}\")\n",
    "\n",
    "# Close the cursor and database connection\n",
    "mycursor.close()\n",
    "mydb.close()\n"
   ]
  },
  {
   "cell_type": "code",
   "execution_count": 18,
   "metadata": {},
   "outputs": [
    {
     "name": "stdout",
     "output_type": "stream",
     "text": [
      "FASTFreewaySensorData2018: 59649669 rows\n",
      "FASTFreewaySensorData2019: 0 rows\n"
     ]
    }
   ],
   "source": [
    "import mysql.connector\n",
    "\n",
    "# Connect to the database\n",
    "mydb = mysql.connector.connect(\n",
    "    host=\"10.18.16.100\",\n",
    "    user=\"jmc\",\n",
    "    password=\"jmc\",\n",
    "    database=\"RTC_Xie_Gang\"\n",
    ")\n",
    "\n",
    "# Create a cursor object\n",
    "mycursor = mydb.cursor()\n",
    "\n",
    "# Get the table list\n",
    "mycursor.execute(\"SHOW TABLES\")\n",
    "table_list = mycursor.fetchall()\n",
    "\n",
    "# Iterate over all of the tables and print the number of rows for each table\n",
    "for table in table_list:\n",
    "    # Get the number of rows in the table\n",
    "    mycursor.execute(f\"SELECT COUNT(*) AS num_rows FROM {table[0]}\")\n",
    "    num_rows = mycursor.fetchone()[0]\n",
    "\n",
    "    # Print the results\n",
    "    print(f\"{table[0]}: {num_rows} rows\")\n",
    "\n",
    "# Close the cursor and database connection\n",
    "mycursor.close()\n",
    "mydb.close()\n"
   ]
  },
  {
   "cell_type": "code",
   "execution_count": 19,
   "metadata": {},
   "outputs": [
    {
     "data": {
      "text/plain": [
       "[('FASTFreewaySensorData2018',), ('FASTFreewaySensorData2019',)]"
      ]
     },
     "execution_count": 19,
     "metadata": {},
     "output_type": "execute_result"
    }
   ],
   "source": [
    "table_list"
   ]
  },
  {
   "cell_type": "code",
   "execution_count": 16,
   "metadata": {},
   "outputs": [
    {
     "name": "stdout",
     "output_type": "stream",
     "text": [
      "Table name: FASTFreewaySensorData2018\n",
      "('DateTimeStamp,Path,RoadIndex,RoadwayID,SegmentID,Lane,DeviceID,Volume,Volume1,Volume2,Volume3,Volume4,Volume5,Volume6,Occupancy,Speed,Poll_Count,Failure,RoadType,Location,Polling_Period,Invalid,DetectorID,DayOfWeek,DateValue,HourIdx,Holiday\\r', None, None, None, None, None, None, None, None, None, None, None, None, None, None, None, None, None, None, None, None, None, None, None, None, None, None)\n",
      "('2018-10-03 16:49:21,152,9,379,1,3,109,83,80,3,0,0,0,0,2,66,17,0,Freeway,I-515 NB between Stephanie Street and Sunset Road,60,0,379.1.109,4,2018-10-03 00:00:00,16,0\\r', None, None, None, None, None, None, None, None, None, None, None, None, None, None, None, None, None, None, None, None, None, None, None, None, None, None)\n",
      "('2018-10-03 16:49:21,152,9,379,2,1,302,199,2,180,4,1,2,0,3,69,17,0,Freeway,I-515 NB between Stephanie Street and Sunset Road,60,0,379.2.302,4,2018-10-03 00:00:00,16,0\\r', None, None, None, None, None, None, None, None, None, None, None, None, None, None, None, None, None, None, None, None, None, None, None, None, None, None)\n",
      "('2018-10-03 16:49:21,152,9,379,2,2,302,281,1,214,5,13,15,0,6,65,17,0,Freeway,I-515 NB between Stephanie Street and Sunset Road,60,0,379.2.302,4,2018-10-03 00:00:00,16,0\\r', None, None, None, None, None, None, None, None, None, None, None, None, None, None, None, None, None, None, None, None, None, None, None, None, None, None)\n",
      "('2018-10-03 16:49:21,152,9,379,2,3,302,367,1,248,4,6,4,0,9,55,17,0,Freeway,I-515 NB between Stephanie Street and Sunset Road,60,0,379.2.302,4,2018-10-03 00:00:00,16,0\\r', None, None, None, None, None, None, None, None, None, None, None, None, None, None, None, None, None, None, None, None, None, None, None, None, None, None)\n",
      "('DateTimeStamp,Path,RoadIndex,RoadwayID,SegmentID,Lane,DeviceID,Volume,Volume1,Volume2,Volume3,Volume4,Volume5,Volume6,Occupancy,Speed,Poll_Count,Failure,RoadType,Location,Polling_Period,Invalid,DetectorID,DayOfWeek,DateValue,HourIdx,Holiday\\r', None, None, None, None, None, None, None, None, None, None, None, None, None, None, None, None, None, None, None, None, None, None, None, None, None, None)\n",
      "('2018-12-31 23:47:13,98,2,171,2,2,47,56,0,29,21,7,0,0,1,61,15,0,Interchange,US-95 SB to I-15 SB Ramp between US-95 SB and I-15 SB,60,0,171.2.47,2,2018-12-31 00:00:00,23,0\\r', None, None, None, None, None, None, None, None, None, None, None, None, None, None, None, None, None, None, None, None, None, None, None, None, None, None)\n",
      "('2018-12-31 23:47:13,98,2,171,2,1,47,107,1,50,42,14,0,0,3,59,15,0,Interchange,US-95 SB to I-15 SB Ramp between US-95 SB and I-15 SB,60,0,171.2.47,2,2018-12-31 00:00:00,23,0\\r', None, None, None, None, None, None, None, None, None, None, None, None, None, None, None, None, None, None, None, None, None, None, None, None, None, None)\n",
      "('2018-12-31 23:47:13,93,1,467,2,3,246,0,0,0,0,0,0,0,0,0,15,0,Off-Ramp,I-15 NB Cheyenne Ave Off Ramp between I-15 NB and Cheyenne Avenue,60,2,467.2.246,2,2018-12-31 00:00:00,23,0\\r', None, None, None, None, None, None, None, None, None, None, None, None, None, None, None, None, None, None, None, None, None, None, None, None, None, None)\n",
      "('2018-12-31 23:47:13,92,1,157,1,1,240,12,0,9,2,0,0,1,0,53,15,0,Off-Ramp,I-15 SB  Lake Mead Off-Ramp between I-15 SB and Lake Mead Boulevard,60,0,157.1.240,2,2018-12-31 00:00:00,23,0\\r', None, None, None, None, None, None, None, None, None, None, None, None, None, None, None, None, None, None, None, None, None, None, None, None, None, None)\n",
      "Table name: FASTFreewaySensorData2019\n"
     ]
    }
   ],
   "source": [
    "import mysql.connector\n",
    "\n",
    "# Connect to the database\n",
    "mydb = mysql.connector.connect(\n",
    "    host=\"10.18.16.100\",\n",
    "    user=\"jmc\",\n",
    "    password=\"jmc\",\n",
    "    database=\"RTC_Xie_Gang\"\n",
    ")\n",
    "\n",
    "# Create a cursor object\n",
    "mycursor = mydb.cursor()\n",
    "\n",
    "# Get the table list\n",
    "mycursor.execute(\"SHOW TABLES\")\n",
    "table_list = mycursor.fetchall()\n",
    "\n",
    "# Iterate over all of the tables and print the first 5 rows and last 5 rows\n",
    "for table in table_list:\n",
    "    # Get the table name\n",
    "    table_name = table[0]\n",
    "\n",
    "    # Print the table name\n",
    "    print(f\"Table name: {table_name}\")\n",
    "\n",
    "    # Get the first 5 rows from the table\n",
    "    mycursor.execute(f\"SELECT * FROM {table_name} LIMIT 5\")\n",
    "\n",
    "    # Print the results\n",
    "    for row in mycursor.fetchall():\n",
    "        print(row)\n",
    "\n",
    "    # Get the last 5 rows from the table\n",
    "    mycursor.execute(f\"SELECT * FROM {table_name} ORDER BY DateTimeStamp DESC LIMIT 5\")\n",
    "\n",
    "    # Print the results\n",
    "    for row in mycursor.fetchall():\n",
    "        print(row)\n",
    "\n",
    "# Close the cursor and database connection\n",
    "mycursor.close()\n",
    "mydb.close()\n"
   ]
  }
 ],
 "metadata": {
  "kernelspec": {
   "display_name": "Python 3",
   "language": "python",
   "name": "python3"
  },
  "language_info": {
   "codemirror_mode": {
    "name": "ipython",
    "version": 3
   },
   "file_extension": ".py",
   "mimetype": "text/x-python",
   "name": "python",
   "nbconvert_exporter": "python",
   "pygments_lexer": "ipython3",
   "version": "3.11.0"
  }
 },
 "nbformat": 4,
 "nbformat_minor": 2
}
