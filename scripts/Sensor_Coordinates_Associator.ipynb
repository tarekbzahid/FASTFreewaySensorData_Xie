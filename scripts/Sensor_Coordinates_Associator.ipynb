{
 "cells": [
  {
   "cell_type": "code",
   "execution_count": 17,
   "metadata": {},
   "outputs": [
    {
     "name": "stdout",
     "output_type": "stream",
     "text": [
      "Output file 'C:/Users/MSI/Documents/GitHub/FASTFreewaySensorData_Xie/sensor_list - bugatti.nvfast.orgDetectors/US-95 SB_with_position.csv' has been created.\n"
     ]
    }
   ],
   "source": [
    "import csv\n",
    "import os\n",
    "\n",
    "# Define input and output file paths\n",
    "smaller_csv_file = 'C:/Users/MSI/Documents/GitHub/FASTFreewaySensorData_Xie/sensor_list - bugatti.nvfast.orgDetectors/US-95 SB.txt'\n",
    "larger_csv_file = 'C:/Users/MSI/Documents/GitHub/I15_road_graph/detector/detectors2018.csv'\n",
    "output_file_name = os.path.splitext(smaller_csv_file)[0] + '_with_position.csv'\n",
    "\n",
    "# Read the smaller dataset into a list\n",
    "with open(smaller_csv_file, 'r') as smaller_file:\n",
    "    smaller_data = [line.strip() for line in smaller_file]\n",
    "\n",
    "# Create a dictionary to store the mapping of sensor IDs (ignoring the last part) to (lat, lon) values\n",
    "sensor_mapping = {}\n",
    "\n",
    "# Read the larger dataset and populate the sensor_mapping dictionary\n",
    "with open(larger_csv_file, 'r') as larger_file:\n",
    "    larger_data = csv.reader(larger_file)\n",
    "    for row in larger_data:\n",
    "        sensor_name = '_'.join(row[1].split('_')[:-1])  # Ignore the last part of the sensor name\n",
    "        sensor_lat = row[5][:2] + '.' + row[5][2:]\n",
    "        sensor_lon = row[6][:3] + '.' + row[6][3:]\n",
    "        sensor_mapping[sensor_name] = (sensor_lat, sensor_lon)\n",
    "\n",
    "# Create the output CSV file and write the results\n",
    "with open(output_file_name, 'w', newline='') as output_file:\n",
    "    writer = csv.writer(output_file)\n",
    "    writer.writerow(['sensor_id', 'lat', 'lon'])  # Write header row\n",
    "\n",
    "    for sensor_id in smaller_data:\n",
    "        if sensor_id in sensor_mapping:\n",
    "            lat, lon = sensor_mapping[sensor_id]\n",
    "            writer.writerow([sensor_id, lat, lon])\n",
    "\n",
    "print(\"Output file '{}' has been created.\".format(output_file_name))\n"
   ]
  }
 ],
 "metadata": {
  "kernelspec": {
   "display_name": "Python 3",
   "language": "python",
   "name": "python3"
  },
  "language_info": {
   "codemirror_mode": {
    "name": "ipython",
    "version": 3
   },
   "file_extension": ".py",
   "mimetype": "text/x-python",
   "name": "python",
   "nbconvert_exporter": "python",
   "pygments_lexer": "ipython3",
   "version": "3.11.0"
  }
 },
 "nbformat": 4,
 "nbformat_minor": 2
}
